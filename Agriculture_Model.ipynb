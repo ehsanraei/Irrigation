{
  "nbformat": 4,
  "nbformat_minor": 0,
  "metadata": {
    "colab": {
      "name": "Agriculture Model.ipynb",
      "provenance": [],
      "collapsed_sections": [
        "MiFWr8OyEpAZ",
        "UpiGHRjoE-VF"
      ]
    },
    "kernelspec": {
      "name": "python3",
      "display_name": "Python 3"
    },
    "language_info": {
      "name": "python"
    }
  },
  "cells": [
    {
      "cell_type": "markdown",
      "metadata": {
        "id": "I1yacaEMDJ3N"
      },
      "source": [
        "The segmentation_models package works better by tensorflow version 1.x"
      ]
    },
    {
      "cell_type": "code",
      "metadata": {
        "id": "DuyXhGv8I0fH",
        "colab": {
          "base_uri": "https://localhost:8080/"
        },
        "outputId": "8af1c507-ed60-4e7e-c0f3-c2677bfadba5"
      },
      "source": [
        "%tensorflow_version 1.x"
      ],
      "execution_count": null,
      "outputs": [
        {
          "output_type": "stream",
          "text": [
            "TensorFlow 1.x selected.\n"
          ],
          "name": "stdout"
        }
      ]
    },
    {
      "cell_type": "code",
      "metadata": {
        "colab": {
          "base_uri": "https://localhost:8080/"
        },
        "id": "M5JCw3o8CVMa",
        "outputId": "2f2760cd-654c-4683-9b68-28915ed4b23e"
      },
      "source": [
        "!pip install -U segmentation-models==0.2.1\n",
        "!pip install h5py==2.10.0"
      ],
      "execution_count": null,
      "outputs": [
        {
          "output_type": "stream",
          "text": [
            "Collecting segmentation-models==0.2.1\n",
            "  Downloading segmentation_models-0.2.1-py2.py3-none-any.whl (44 kB)\n",
            "\u001b[?25l\r\u001b[K     |███████▎                        | 10 kB 23.3 MB/s eta 0:00:01\r\u001b[K     |██████████████▋                 | 20 kB 26.5 MB/s eta 0:00:01\r\u001b[K     |█████████████████████▉          | 30 kB 21.6 MB/s eta 0:00:01\r\u001b[K     |█████████████████████████████▏  | 40 kB 18.5 MB/s eta 0:00:01\r\u001b[K     |████████████████████████████████| 44 kB 2.2 MB/s \n",
            "\u001b[?25hRequirement already satisfied: keras>=2.2.0 in /tensorflow-1.15.2/python3.7 (from segmentation-models==0.2.1) (2.3.1)\n",
            "Collecting image-classifiers==0.2.0\n",
            "  Downloading image_classifiers-0.2.0-py2.py3-none-any.whl (76 kB)\n",
            "\u001b[K     |████████████████████████████████| 76 kB 4.1 MB/s \n",
            "\u001b[?25hRequirement already satisfied: scikit-image in /usr/local/lib/python3.7/dist-packages (from segmentation-models==0.2.1) (0.16.2)\n",
            "Requirement already satisfied: keras-applications>=1.0.7 in /tensorflow-1.15.2/python3.7 (from segmentation-models==0.2.1) (1.0.8)\n",
            "Requirement already satisfied: h5py in /usr/local/lib/python3.7/dist-packages (from keras>=2.2.0->segmentation-models==0.2.1) (3.1.0)\n",
            "Requirement already satisfied: scipy>=0.14 in /usr/local/lib/python3.7/dist-packages (from keras>=2.2.0->segmentation-models==0.2.1) (1.4.1)\n",
            "Requirement already satisfied: six>=1.9.0 in /usr/local/lib/python3.7/dist-packages (from keras>=2.2.0->segmentation-models==0.2.1) (1.15.0)\n",
            "Requirement already satisfied: numpy>=1.9.1 in /usr/local/lib/python3.7/dist-packages (from keras>=2.2.0->segmentation-models==0.2.1) (1.19.5)\n",
            "Requirement already satisfied: pyyaml in /usr/local/lib/python3.7/dist-packages (from keras>=2.2.0->segmentation-models==0.2.1) (3.13)\n",
            "Requirement already satisfied: keras-preprocessing>=1.0.5 in /usr/local/lib/python3.7/dist-packages (from keras>=2.2.0->segmentation-models==0.2.1) (1.1.2)\n",
            "Requirement already satisfied: cached-property in /usr/local/lib/python3.7/dist-packages (from h5py->keras>=2.2.0->segmentation-models==0.2.1) (1.5.2)\n",
            "Requirement already satisfied: networkx>=2.0 in /usr/local/lib/python3.7/dist-packages (from scikit-image->segmentation-models==0.2.1) (2.5.1)\n",
            "Requirement already satisfied: matplotlib!=3.0.0,>=2.0.0 in /usr/local/lib/python3.7/dist-packages (from scikit-image->segmentation-models==0.2.1) (3.2.2)\n",
            "Requirement already satisfied: pillow>=4.3.0 in /usr/local/lib/python3.7/dist-packages (from scikit-image->segmentation-models==0.2.1) (7.1.2)\n",
            "Requirement already satisfied: PyWavelets>=0.4.0 in /usr/local/lib/python3.7/dist-packages (from scikit-image->segmentation-models==0.2.1) (1.1.1)\n",
            "Requirement already satisfied: imageio>=2.3.0 in /usr/local/lib/python3.7/dist-packages (from scikit-image->segmentation-models==0.2.1) (2.4.1)\n",
            "Requirement already satisfied: python-dateutil>=2.1 in /usr/local/lib/python3.7/dist-packages (from matplotlib!=3.0.0,>=2.0.0->scikit-image->segmentation-models==0.2.1) (2.8.1)\n",
            "Requirement already satisfied: cycler>=0.10 in /usr/local/lib/python3.7/dist-packages (from matplotlib!=3.0.0,>=2.0.0->scikit-image->segmentation-models==0.2.1) (0.10.0)\n",
            "Requirement already satisfied: kiwisolver>=1.0.1 in /usr/local/lib/python3.7/dist-packages (from matplotlib!=3.0.0,>=2.0.0->scikit-image->segmentation-models==0.2.1) (1.3.1)\n",
            "Requirement already satisfied: pyparsing!=2.0.4,!=2.1.2,!=2.1.6,>=2.0.1 in /usr/local/lib/python3.7/dist-packages (from matplotlib!=3.0.0,>=2.0.0->scikit-image->segmentation-models==0.2.1) (2.4.7)\n",
            "Requirement already satisfied: decorator<5,>=4.3 in /usr/local/lib/python3.7/dist-packages (from networkx>=2.0->scikit-image->segmentation-models==0.2.1) (4.4.2)\n",
            "Installing collected packages: image-classifiers, segmentation-models\n",
            "Successfully installed image-classifiers-0.2.0 segmentation-models-0.2.1\n",
            "Collecting h5py==2.10.0\n",
            "  Downloading h5py-2.10.0-cp37-cp37m-manylinux1_x86_64.whl (2.9 MB)\n",
            "\u001b[K     |████████████████████████████████| 2.9 MB 7.4 MB/s \n",
            "\u001b[?25hRequirement already satisfied: numpy>=1.7 in /usr/local/lib/python3.7/dist-packages (from h5py==2.10.0) (1.19.5)\n",
            "Requirement already satisfied: six in /usr/local/lib/python3.7/dist-packages (from h5py==2.10.0) (1.15.0)\n",
            "Installing collected packages: h5py\n",
            "  Attempting uninstall: h5py\n",
            "    Found existing installation: h5py 3.1.0\n",
            "    Uninstalling h5py-3.1.0:\n",
            "      Successfully uninstalled h5py-3.1.0\n",
            "Successfully installed h5py-2.10.0\n"
          ],
          "name": "stdout"
        }
      ]
    },
    {
      "cell_type": "markdown",
      "metadata": {
        "id": "TAa3pEUyDWxe"
      },
      "source": [
        "Connect to google drive"
      ]
    },
    {
      "cell_type": "code",
      "metadata": {
        "colab": {
          "base_uri": "https://localhost:8080/"
        },
        "id": "beZdfb9cCXHH",
        "outputId": "0d8fd895-fc90-4306-8eee-3c76383412fb"
      },
      "source": [
        "from google.colab import drive\n",
        "drive.mount('/content/drive')"
      ],
      "execution_count": null,
      "outputs": [
        {
          "output_type": "stream",
          "text": [
            "Mounted at /content/drive\n"
          ],
          "name": "stdout"
        }
      ]
    },
    {
      "cell_type": "code",
      "metadata": {
        "id": "-O1HHoMXCZWs"
      },
      "source": [
        "#change directory to data folder\n",
        "cd 'Ehsan' "
      ],
      "execution_count": null,
      "outputs": []
    },
    {
      "cell_type": "code",
      "metadata": {
        "colab": {
          "base_uri": "https://localhost:8080/",
          "height": 36
        },
        "id": "XVldhILZCcnC",
        "outputId": "ce22c506-ed40-4aa3-c9d1-1d331fc49217"
      },
      "source": [
        "import tensorflow as tf\n",
        "tf.__version__"
      ],
      "execution_count": null,
      "outputs": [
        {
          "output_type": "execute_result",
          "data": {
            "application/vnd.google.colaboratory.intrinsic+json": {
              "type": "string"
            },
            "text/plain": [
              "'1.15.2'"
            ]
          },
          "metadata": {
            "tags": []
          },
          "execution_count": 12
        }
      ]
    },
    {
      "cell_type": "code",
      "metadata": {
        "colab": {
          "base_uri": "https://localhost:8080/"
        },
        "id": "HlbWYddfCejL",
        "outputId": "454199ff-4e96-42c7-8187-4dcaea414938"
      },
      "source": [
        "import keras\n",
        "from keras import backend as K\n",
        "from keras.models import load_model\n",
        "import numpy as np\n",
        "import matplotlib.pyplot as plt\n",
        "from skimage import io\n",
        "from glob import glob\n",
        "from segmentation_models import Unet,PSPNet,FPN,Linknet\n",
        "from keras.callbacks import EarlyStopping, ModelCheckpoint, ReduceLROnPlateau\n",
        "from keras.layers import Input, Conv2D\n",
        "from keras.models import Model\n",
        "import pdb\n",
        "import pickle\n",
        "import os\n",
        "import cv2\n",
        "import pandas as pd"
      ],
      "execution_count": null,
      "outputs": [
        {
          "output_type": "stream",
          "text": [
            "Using TensorFlow backend.\n",
            "/usr/local/lib/python3.7/dist-packages/classification_models/resnext/__init__.py:4: UserWarning: Current ResNext models are deprecated, use keras.applications ResNeXt models\n",
            "  warnings.warn('Current ResNext models are deprecated, '\n"
          ],
          "name": "stderr"
        }
      ]
    },
    {
      "cell_type": "markdown",
      "metadata": {
        "id": "_BEqrP4sCp63"
      },
      "source": [
        "Define Generator"
      ]
    },
    {
      "cell_type": "code",
      "metadata": {
        "id": "EPaB0jwiC8tB"
      },
      "source": [
        "palette = {(0,  0, 0) : 0,\n",
        "           (255,  0, 0) : 1,\n",
        "           (0,   255,   0) : 2 ,\n",
        "           (0,   0,   255) : 3 ,\n",
        "           (0,   255,   255) : 4,\n",
        "           (255,   0,   255) : 5\n",
        "         }\n",
        "# Set image size\n",
        "img_size=384\n",
        "# Set batch size\n",
        "Batch_size=25"
      ],
      "execution_count": null,
      "outputs": []
    },
    {
      "cell_type": "code",
      "metadata": {
        "id": "8n6jL-B1CpVg"
      },
      "source": [
        "def batch_generator(folder,sample_number,batch_size=20):\n",
        "    list_files=glob(folder+'_images_400/*.tif')\n",
        "    permutated_indices = np.random.permutation(len(list_files))\n",
        "    while True:\n",
        "      for index in range(int(sample_number / batch_size)):\n",
        "        batchX=np.zeros(shape=(batch_size,img_size,img_size,4),dtype=np.int16)\n",
        "        batchY=np.zeros(shape=(batch_size,img_size,img_size,6),dtype=np.int8)\n",
        "        batch_indices = permutated_indices[index*batch_size:(index+1)*batch_size]\n",
        "        counter=0\n",
        "        for idx in batch_indices:\n",
        "          img=io.imread(list_files[idx], plugin='pil')\n",
        "          #\n",
        "          img11=img[np.int(np.ceil(img.shape[0]/2)-img_size/2):np.int(np.ceil(img.shape[0]/2)+img_size/2),np.int(np.ceil(img.shape[1]/2)-img_size/2):np.int(np.ceil(img.shape[1]/2)+img_size/2),:]\n",
        "          #\n",
        "          batchX[counter]=np.int16(img11)\n",
        "          #\n",
        "          img_out_name=str.replace(list_files[idx],'_images','_labels')\n",
        "          img_out_name=str.replace(img_out_name,'_2011.tif','.png')\n",
        "          img_out_name=str.replace(img_out_name,'.tif','.png')\n",
        "          img_llabel=io.imread(img_out_name)\n",
        "          img_label=img_llabel[np.int(np.ceil(img_llabel.shape[0]/2)-img_size/2):np.int(np.ceil(img_llabel.shape[0]/2)+img_size/2),np.int(np.ceil(img_llabel.shape[1]/2)-img_size/2):np.int(np.ceil(img_llabel.shape[1]/2)+img_size/2):]\n",
        "          # \n",
        "          labels=np.zeros(shape=(img_size,img_size,6),dtype=np.int8)\n",
        "          for ccd, iiig in palette.items():\n",
        "            yutr=np.zeros(shape=(img_size,img_size),dtype=np.int8)\n",
        "            mds = np.all(img_label == np.array(ccd).reshape(1, 1, 3), axis=2)\n",
        "            yutr[mds]=1\n",
        "            labels[:,:,iiig]=yutr\n",
        "          batchY[counter]=labels\n",
        "            #\n",
        "          counter += 1\n",
        "        yield [batchX[:,:,:,0:3], batchY]"
      ],
      "execution_count": null,
      "outputs": []
    },
    {
      "cell_type": "code",
      "metadata": {
        "colab": {
          "base_uri": "https://localhost:8080/"
        },
        "id": "ysKj4rRXDPEe",
        "outputId": "ea63e014-fdb0-41ee-e069-b438566215f5"
      },
      "source": [
        "len(glob('test_images/*.tif'))"
      ],
      "execution_count": null,
      "outputs": [
        {
          "output_type": "execute_result",
          "data": {
            "text/plain": [
              "1384"
            ]
          },
          "metadata": {
            "tags": []
          },
          "execution_count": 19
        }
      ]
    },
    {
      "cell_type": "markdown",
      "metadata": {
        "id": "MiFWr8OyEpAZ"
      },
      "source": [
        "# Define the model, run and save"
      ]
    },
    {
      "cell_type": "code",
      "metadata": {
        "colab": {
          "base_uri": "https://localhost:8080/"
        },
        "id": "OuaQgTj0Dw6k",
        "outputId": "b09682c8-0409-406c-bc9d-82a13ff6c1d7"
      },
      "source": [
        "model = Unet(backbone_name='resnet34', encoder_weights='imagenet',classes=6,input_shape=(None, None, 3), activation='softmax')\n",
        "model.compile(optimizer=keras.optimizers.adadelta(lr=1), loss='categorical_crossentropy', metrics=['binary_crossentropy','accuracy'])\n",
        "# Save model's structure\n",
        "json_string = model.to_json()\n",
        "with open('model_name.json','wb') as handle: \n",
        "    pickle.dump(json_string,handle)#"
      ],
      "execution_count": null,
      "outputs": [
        {
          "output_type": "stream",
          "text": [
            "WARNING:tensorflow:From /tensorflow-1.15.2/python3.7/tensorflow_core/python/ops/resource_variable_ops.py:1630: calling BaseResourceVariable.__init__ (from tensorflow.python.ops.resource_variable_ops) with constraint is deprecated and will be removed in a future version.\n",
            "Instructions for updating:\n",
            "If using Keras pass *_constraint arguments to layers.\n",
            "WARNING:tensorflow:From /tensorflow-1.15.2/python3.7/keras/backend/tensorflow_backend.py:4070: The name tf.nn.max_pool is deprecated. Please use tf.nn.max_pool2d instead.\n",
            "\n"
          ],
          "name": "stdout"
        }
      ]
    },
    {
      "cell_type": "code",
      "metadata": {
        "id": "x6RRDS94EK2e"
      },
      "source": [
        "callbacks = [\n",
        "    EarlyStopping(patience=20, verbose=1),\n",
        "  ReduceLROnPlateau(factor=0.1, patience=5, min_lr=0.0000001, verbose=1),\n",
        "    ModelCheckpoint('model_name.h5', verbose=1, save_best_only=True)]"
      ],
      "execution_count": null,
      "outputs": []
    },
    {
      "cell_type": "code",
      "metadata": {
        "id": "VlN6i9oJEPxY"
      },
      "source": [
        "results = model.fit_generator(batch_generator('train',batch_size=Batch_size, sample_number=5720),steps_per_epoch=np.int(5720/Batch_size),epochs=37, callbacks=callbacks,\n",
        "                              validation_data=batch_generator('val',batch_size=Batch_size, sample_number=1500), validation_steps=np.int(1500/Batch_size),shuffle=True, initial_epoch=0,class_weight={1,0.1,1,1,1,1})"
      ],
      "execution_count": null,
      "outputs": []
    },
    {
      "cell_type": "code",
      "metadata": {
        "id": "P02BFp6sEW3d"
      },
      "source": [
        ""
      ],
      "execution_count": null,
      "outputs": []
    },
    {
      "cell_type": "markdown",
      "metadata": {
        "id": "UpiGHRjoE-VF"
      },
      "source": [
        "# Load a saved model"
      ]
    },
    {
      "cell_type": "code",
      "metadata": {
        "id": "NJEqMDiHE-7e"
      },
      "source": [
        "from keras.models import load_model,model_from_json\n",
        "with open('model_384_json_3d_trainable_categorical.json', 'rb') as handle:\n",
        "  model_json = pickle.load(handle)\n",
        "model = model_from_json(model_json)\n",
        "model.load_weights(\"model_384_0.1other1_epoch-13_val_loss-0.5015.h5\")\n",
        "# model1.compile('adam', loss='categorical_crossentropy', metrics=['binary_crossentropy','accuracy',dice_loss,iou_score,bce_jaccard_loss])\n",
        "model.compile(optimizer=keras.optimizers.Adadelta(lr=1), loss='categorical_crossentropy', metrics=['binary_crossentropy','accuracy'])\n"
      ],
      "execution_count": null,
      "outputs": []
    },
    {
      "cell_type": "code",
      "metadata": {
        "id": "nCaPGvtJFfz7"
      },
      "source": [
        "def showfig(file_name): \n",
        "  if 1==1:\n",
        "    img=io.imread(file_name, plugin='pil')\n",
        "    img11=img[np.int(np.ceil(img.shape[0]/2)-img_size/2):np.int(np.ceil(img.shape[0]/2)+img_size/2),np.int(np.ceil(img.shape[1]/2)-img_size/2):np.int(np.ceil(img.shape[1]/2)+img_size/2),:3]\n",
        "  #\n",
        "    img_out_name=str.replace(file_name,'_images','_labels')\n",
        "    img_out_name=str.replace(img_out_name,'.tif','.png')\n",
        "    img_llabel=io.imread(img_out_name)\n",
        "    img_label=img_llabel[np.int(np.ceil(img_llabel.shape[0]/2)-img_size/2):np.int(np.ceil(img_llabel.shape[0]/2)+img_size/2),np.int(np.ceil(img_llabel.shape[1]/2)-img_size/2):np.int(np.ceil(img_llabel.shape[1]/2)+img_size/2):]\n",
        "    # \n",
        "    labels=np.zeros(shape=(img_size,img_size,6),dtype=np.int8)\n",
        "    for ccd, iiig in palette.items():\n",
        "      yutr=np.zeros(shape=(img_size,img_size),dtype=np.int8)\n",
        "      mds = np.all(img_label == np.array(ccd).reshape(1, 1, 3), axis=2)\n",
        "      yutr[mds]=1\n",
        "      labels[:,:,iiig]=yutr\n",
        "  #   batchY[counter]=labels\n",
        "  # **********************\n",
        "    predict_label=np.zeros((384,384,3),dtype=np.int16)\n",
        "    out=model.predict(np.expand_dims(np.int16(img11),axis=0))\n",
        "    for i in range(0,384):\n",
        "      for j in range(0,384):\n",
        "        max_val=np.argmax(out[0,i,j,:])\n",
        "        for ccd, iiig in palette.items():\n",
        "          if iiig==max_val:\n",
        "            predict_label[i,j]=ccd\n",
        "    plt.subplot(121)\n",
        "    plt.imshow(predict_label)\n",
        "    plt.title('predict')\n",
        "    # plt.subplot(132)\n",
        "    # plt.imshow(predict_label1)\n",
        "    plt.subplot(122)\n",
        "    plt.imshow(img_label)\n",
        "    plt.title('observe')\n",
        "    plt.show()\n",
        "    print(model.evaluate(np.expand_dims(np.int16(img11),axis=0),np.expand_dims(labels,axis=0)))"
      ],
      "execution_count": null,
      "outputs": []
    },
    {
      "cell_type": "code",
      "metadata": {
        "colab": {
          "base_uri": "https://localhost:8080/",
          "height": 252
        },
        "id": "Kx7TSu7OXl_u",
        "outputId": "63c43a43-930e-4c9c-f3ee-7703e51f0e12"
      },
      "source": [
        "showfig('train_images/train_image_104.tif')"
      ],
      "execution_count": null,
      "outputs": [
        {
          "output_type": "display_data",
          "data": {
            "image/png": "[encoded data removed]",
            "text/plain": [
              "<Figure size 432x288 with 2 Axes>"
            ]
          },
          "metadata": {
            "tags": [],
            "needs_background": "light"
          }
        },
        {
          "output_type": "stream",
          "text": [
            "\r1/1 [==============================] - 1s 775ms/step\n",
            "[0.07854124903678894, 0.0258334968239069, 0.9735514521598816]\n"
          ],
          "name": "stdout"
        }
      ]
    },
    {
      "cell_type": "code",
      "metadata": {
        "id": "59_qdtvB6ovP"
      },
      "source": [
        ""
      ],
      "execution_count": null,
      "outputs": []
    }
  ]
}